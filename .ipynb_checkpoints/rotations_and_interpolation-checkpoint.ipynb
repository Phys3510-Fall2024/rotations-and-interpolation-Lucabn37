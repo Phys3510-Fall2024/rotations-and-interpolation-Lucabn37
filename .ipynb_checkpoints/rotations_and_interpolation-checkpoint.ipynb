{
 "cells": [
  {
   "cell_type": "markdown",
   "id": "cc703bae-7237-4bb4-a0b3-c131fed5ccde",
   "metadata": {},
   "source": [
    "## Rotations, scaling, and basic data handling"
   ]
  },
  {
   "cell_type": "markdown",
   "id": "ff859b02-9eed-4657-81e1-0e5117542226",
   "metadata": {},
   "source": [
    "### 1a. Rotations and Scaling of Vectors in 2D\n",
    "\n",
    "We can rotate and scale vectors using matrices. We'll focus on 2D vectors to make things easy to visualize, but everything here can be generalized to arbitrary dimensions. \n",
    "\n",
    "- **Rotation Matrix**:\n",
    "  We can rotate a vector by an angle $\\theta$ using the matrix:\n",
    "\n",
    "\n",
    "  $$\n",
    "  R(\\theta) = \\begin{pmatrix}\n",
    "  \\cos \\theta & -\\sin \\theta \\\\\n",
    "  \\sin \\theta & \\cos \\theta\n",
    "  \\end{pmatrix}\n",
    "  $$\n",
    "\n",
    "  \n",
    "  This matrix rotates vectors counterclockwise by the angle $\\theta$.\n",
    "\n",
    "- **Scaling Matrix**:\n",
    "  To scale a vector uniformly (by the same factor in all directions), we use the scaling matrix:\n",
    "  $$\n",
    "  S(s) = \\begin{pmatrix}\n",
    "  s & 0 \\\\\n",
    "  0 & s\n",
    "  \\end{pmatrix}\n",
    "  $$\n",
    "  This matrix scales vectors by the factor $s$. Of course, this is the same as multiplying the vector by the scalar #s#.\n",
    "\n",
    "We can use these matrices to rotate and scale a vector, and visualize it to make sure it is doing what we expect."
   ]
  },
  {
   "cell_type": "code",
   "execution_count": 29,
   "id": "9aaed5bb-4dff-45f7-967b-8b5f9424e7f3",
   "metadata": {},
   "outputs": [
    {
     "data": {
      "application/vnd.jupyter.widget-view+json": {
       "model_id": "a92f5cf807414b87966361936de4efec",
       "version_major": 2,
       "version_minor": 0
      },
      "text/plain": [
       "interactive(children=(FloatSlider(value=0.0, description='Rotation (degrees)', max=360.0, step=1.0), FloatSlid…"
      ]
     },
     "metadata": {},
     "output_type": "display_data"
    }
   ],
   "source": [
    "import numpy as np\n",
    "import matplotlib.pyplot as plt\n",
    "from ipywidgets import interact, FloatSlider\n",
    "\n",
    "# Function to apply rotation and scaling to a 2D vector\n",
    "def transform_and_plot(theta_deg=0, scale=1):\n",
    "    # Define the original vector\n",
    "    vec = np.array([1, 0])  # Unit vector along x-axis\n",
    "    \n",
    "    # Convert degrees to radians\n",
    "    theta_rad = np.radians(theta_deg)\n",
    "    \n",
    "    # Define the rotation matrix\n",
    "    R = np.array([[np.cos(theta_rad), -np.sin(theta_rad)],\n",
    "                  [np.sin(theta_rad), np.cos(theta_rad)]])\n",
    "    \n",
    "    # Define the scaling matrix\n",
    "    S = np.array([[scale, 0],\n",
    "                  [0, scale]])\n",
    "    \n",
    "    # Apply rotation and scaling\n",
    "    transformed_vec = S @ R @ vec\n",
    "    \n",
    "    # Plot the original and transformed vectors\n",
    "    plt.figure(figsize=(6, 6))\n",
    "    plt.quiver(0, 0, vec[0], vec[1], angles='xy', scale_units='xy', scale=1, color='blue', label='Original')\n",
    "    plt.quiver(0, 0, transformed_vec[0], transformed_vec[1], angles='xy', scale_units='xy', scale=1, color='red', label='Transformed')\n",
    "    plt.quiver(0, 0, transformed_vec[1], transformed_vec[0], angles='xy', scale_units='xy', scale=1, color='green', label='Extra Vector')\n",
    "    plt.xlim(-2, 2)\n",
    "    plt.ylim(-2, 2)\n",
    "    plt.axhline(0, color='black',linewidth=0.5)\n",
    "    plt.axvline(0, color='black',linewidth=0.5)\n",
    "    plt.gca().set_aspect('equal', adjustable='box')\n",
    "    plt.grid(True)\n",
    "    plt.legend(['Original Vector', 'Transformed Vector', 'Extra Vector'])\n",
    "    plt.show()\n",
    "\n",
    "# Create sliders for rotation and scaling\n",
    "interact(transform_and_plot, \n",
    "         theta_deg=FloatSlider(min=0, max=360, step=1, value=0, description=\"Rotation (degrees)\"), \n",
    "         scale=FloatSlider(min=0.1, max=2, step=0.1, value=1, description=\"Scaling\"));\n"
   ]
  },
  {
   "cell_type": "code",
   "execution_count": 27,
   "id": "e179eb66-f0f5-42a4-8fbf-897104dc0567",
   "metadata": {},
   "outputs": [],
   "source": [
    "#help(plt.quiver)"
   ]
  },
  {
   "cell_type": "markdown",
   "id": "457a400a-d30b-45fc-b3d6-7d31d5b1e395",
   "metadata": {},
   "source": [
    "### Assignment 1: Add a vector pointing along the y-axis to the above plot, including the rotation."
   ]
  },
  {
   "cell_type": "markdown",
   "id": "18393ff4-9964-48f5-a399-f22e9bc65e85",
   "metadata": {},
   "source": [
    "### 1b. Eigenvalues and Eigenvectors as Special Rotations\n",
    "\n",
    "When we apply a transformation to a vector, the transformation can often be understood as a combination of rotations and scalings. Eigenvectors and eigenvalues are special in that they allow us to interpret the transformation more easily.\n",
    "\n",
    "- **Eigenvectors** are special vectors that **do not change direction** under the transformation. They are like new axes (rotated from the original basis).\n",
    "- **Eigenvalues** are the factors by which the length of these eigenvectors is scaled under the transformation.\n",
    "\n",
    "For a matrix $A$, we find eigenvectors and eigenvalues by solving the equation:\n",
    "$$\n",
    "A \\mathbf{v} = \\lambda \\mathbf{v}\n",
    "$$\n",
    "where $\\mathbf{v}$ is an eigenvector, and $\\lambda$ is the corresponding eigenvalue.\n",
    "\n",
    "We can get the eigenvalues and eigenvectors in `numpy` using the `linalg` package."
   ]
  },
  {
   "cell_type": "code",
   "execution_count": 35,
   "id": "34987392-93d2-44fa-81a3-63daa08d375a",
   "metadata": {},
   "outputs": [
    {
     "name": "stdout",
     "output_type": "stream",
     "text": [
      "Eigenvalues: [4.41421356 1.58578644]\n",
      "Eigenvectors:\n",
      " [[ 0.92387953 -0.38268343]\n",
      " [ 0.38268343  0.92387953]]\n"
     ]
    },
    {
     "data": {
      "image/png": "[encoded data removed]",
      "text/plain": [
       "<Figure size 600x600 with 1 Axes>"
      ]
     },
     "metadata": {},
     "output_type": "display_data"
    }
   ],
   "source": [
    "import numpy as np\n",
    "import matplotlib.pyplot as plt\n",
    "from numpy.linalg import eig\n",
    "\n",
    "# Define a 2x2 matrix\n",
    "A = np.array([[4, 1],\n",
    "              [1, 2]])\n",
    "\n",
    "# Compute eigenvalues and eigenvectors\n",
    "eigenvalues, eigenvectors = eig(A)\n",
    "\n",
    "# Print eigenvalues and eigenvectors\n",
    "print(\"Eigenvalues:\", eigenvalues)\n",
    "print(\"Eigenvectors:\\n\", eigenvectors)\n",
    "\n",
    "# Plot original basis vectors\n",
    "plt.figure(figsize=(6, 6))\n",
    "plt.quiver(0, 0, 1, 0, angles='xy', scale_units='xy', scale=1, color='blue', label='Original Basis X')\n",
    "plt.quiver(0, 0, 0, 1, angles='xy', scale_units='xy', scale=1, color='green', label='Original Basis Y')\n",
    "\n",
    "# Plot eigenvectors\n",
    "for i in range(2):\n",
    "    vec = eigenvectors[:, i]\n",
    "    color = ['red', 'purple']\n",
    "    plt.quiver(0, 0, vec[0], vec[1], angles='xy', scale_units='xy', scale=1, color=color[i], label=f'Eigenvector {i+1}')\n",
    "\n",
    "plt.xlim(-2, 2)\n",
    "plt.ylim(-2, 2)\n",
    "plt.axhline(0, color='black',linewidth=0.25)\n",
    "plt.axvline(0, color='black',linewidth=0.25)\n",
    "plt.gca().set_aspect('equal', adjustable='box')\n",
    "plt.legend(['Original Basis X', 'Original Basis Y', 'Eigenvector 1', 'Eigenvector 2'])\n",
    "plt.show()\n"
   ]
  },
  {
   "cell_type": "markdown",
   "id": "15ff3efa-13cf-4453-a42f-c307662a8828",
   "metadata": {},
   "source": [
    "### 1c. Unitary Transformations of a Potential Energy Function\n",
    "\n",
    "The harmonic part of the potential energy can be represented by a quadratic form, which in matrix notation looks like:\n",
    "$$\n",
    "U = \\frac{1}{2} \\begin{pmatrix} Q_1 & Q_2 \\end{pmatrix}\n",
    "\\begin{pmatrix}\n",
    "K_{11} & K_{12} \\\\\n",
    "K_{12} & K_{22}\n",
    "\\end{pmatrix}\n",
    "\\begin{pmatrix} Q_1 \\\\ Q_2 \\end{pmatrix}\n",
    "$$\n",
    "Here, $K_{11}, K_{12}, K_{22}$ are constants that describe the system's stiffness and coupling in different directions. Again this can be generalized to arbitrary dimensions.\n",
    "\n",
    "- If the matrix is symmetric (i.e., $K_{12} = K_{21}$ ) or Hermitian, we can diagonalize it using a unitary transformation (rotation of the basis).\n",
    "- The diagonal form simplifies the potential energy, making it easier to analyze.\n",
    "\n",
    "We will:\n",
    "1. Use **Sympy** to symbolically compute the eigenvalues and eigenvectors of the matrix.\n",
    "2. Diagonalize the potential energy using the eigenvectors.\n",
    "3. Visualize the potential energy surface with **Matplotlib**.\n",
    "4. Use **IPyWidgets** to explore how changing the constants \\( K_{11}, K_{12}, K_{22} \\) affects the potential energy and its principal axes.\n"
   ]
  },
  {
   "cell_type": "code",
   "execution_count": 6,
   "id": "9b076219-4524-47d6-b9ee-5def529ef350",
   "metadata": {},
   "outputs": [
    {
     "data": {
      "text/latex": [
       "$\\displaystyle 0.5 K_{11} Q_{1}^{2} + 1.0 K_{12} Q_{1} Q_{2} + 0.5 K_{22} Q_{2}^{2}$"
      ],
      "text/plain": [
       "0.5*K11*Q1**2 + 1.0*K12*Q1*Q2 + 0.5*K22*Q2**2"
      ]
     },
     "metadata": {},
     "output_type": "display_data"
    },
    {
     "name": "stdout",
     "output_type": "stream",
     "text": [
      "⎧               __________________________________                    ________ ↪\n",
      "⎪              ╱    2                    2      2                    ╱    2    ↪\n",
      "⎨K₁₁   K₂₂   ╲╱  K₁₁  - 2⋅K₁₁⋅K₂₂ + 4⋅K₁₂  + K₂₂       K₁₁   K₂₂   ╲╱  K₁₁  -  ↪\n",
      "⎪─── + ─── - ─────────────────────────────────────: 1, ─── + ─── + ─────────── ↪\n",
      "⎩ 2     2                      2                        2     2                ↪\n",
      "\n",
      "↪ __________________________   ⎫\n",
      "↪                  2      2    ⎪\n",
      "↪ 2⋅K₁₁⋅K₂₂ + 4⋅K₁₂  + K₂₂     ⎬\n",
      "↪ ──────────────────────────: 1⎪\n",
      "↪        2                     ⎭\n"
     ]
    }
   ],
   "source": [
    "import sympy as sp\n",
    "\n",
    "# Define symbolic variables\n",
    "Q1, Q2, K11, K12, K22 = sp.symbols('Q1 Q2 K11 K12 K22')\n",
    "\n",
    "# Define the potential energy matrix\n",
    "K = sp.Matrix([[K11, K12],\n",
    "               [K12, K22]])\n",
    "\n",
    "# Define the vector of coordinates\n",
    "Q = sp.Matrix([Q1, Q2])\n",
    "\n",
    "# Define the potential energy expression\n",
    "U = 1/2 * Q.T * K * Q\n",
    "\n",
    "# Simplify the potential energy expression\n",
    "U_simplified = sp.simplify(U[0])\n",
    "display(U_simplified.expand())\n",
    "\n",
    "# Compute the eigenvalues and eigenvectors of the matrix\n",
    "eigenvals = K.eigenvals()\n",
    "eigenvecs = K.eigenvects()\n",
    "\n",
    "# Display the eigenvalues and eigenvectors\n",
    "sp.pprint(eigenvals)\n",
    "# sp.pprint(eigenvecs) # uncomment for the eigenvectors\n"
   ]
  },
  {
   "cell_type": "markdown",
   "id": "e6c534a3-3fda-4727-8708-6db92b1e0155",
   "metadata": {},
   "source": [
    "Now, let's visualize the potential energy surface. We'll plot contour lines of the potential energy, and overlay arrows representing the eigenvectors of the matrix.\n",
    "\n",
    "The eigenvectors represent the directions along which the potential energy is \"aligned\" and help us understand the principal directions of stiffness in the system.\n"
   ]
  },
  {
   "cell_type": "code",
   "execution_count": 7,
   "id": "906e0ade-894b-48fb-998b-f20077fb80e6",
   "metadata": {},
   "outputs": [
    {
     "data": {
      "application/vnd.jupyter.widget-view+json": {
       "model_id": "b772a2b4b71c47c9a37cb48a143281f0",
       "version_major": 2,
       "version_minor": 0
      },
      "text/plain": [
       "interactive(children=(FloatSlider(value=1.0, description='K11', max=3.0, min=0.1), FloatSlider(value=0.5, desc…"
      ]
     },
     "metadata": {},
     "output_type": "display_data"
    }
   ],
   "source": [
    "import numpy as np\n",
    "import matplotlib.pyplot as plt\n",
    "from ipywidgets import interact, FloatSlider\n",
    "\n",
    "# Function to compute the potential energy\n",
    "def potential_energy(Q1, Q2, K11, K12, K22):\n",
    "    return 0.5 * (K11 * Q1**2 + 2 * K12 * Q1 * Q2 + K22 * Q2**2)\n",
    "\n",
    "# Function to plot the potential energy surface and eigenvectors\n",
    "def plot_potential_and_eigenvectors(K11=1.0, K12=0.5, K22=2.0):\n",
    "    # Define grid for Q1 and Q2\n",
    "    Q1_vals = np.linspace(-2, 2, 100)\n",
    "    Q2_vals = np.linspace(-2, 2, 100)\n",
    "    Q1, Q2 = np.meshgrid(Q1_vals, Q2_vals)\n",
    "    \n",
    "    # Compute potential energy on the grid\n",
    "    U_vals = potential_energy(Q1, Q2, K11, K12, K22)\n",
    "    \n",
    "    # Plot the contour of the potential energy\n",
    "    plt.figure(figsize=(6, 6))\n",
    "    contour = plt.contourf(Q1, Q2, U_vals, levels=20, cmap='viridis')\n",
    "    plt.contour(Q1, Q2, U_vals, levels=20, colors=\"white\")\n",
    "    plt.colorbar(contour)\n",
    "    \n",
    "    # Define the matrix and compute eigenvalues and eigenvectors\n",
    "    K = np.array([[K11, K12], [K12, K22]])\n",
    "    eigenvalues, eigenvectors = np.linalg.eig(K)\n",
    "    \n",
    "    # Plot eigenvectors as arrows\n",
    "    for i in range(2):\n",
    "        vec = eigenvectors[:, i]\n",
    "        plt.quiver(0, 0, vec[0], vec[1], angles='xy', scale_units='xy', scale=1, color='red')\n",
    "    \n",
    "    plt.xlim(-2, 2)\n",
    "    plt.ylim(-2, 2)\n",
    "    plt.axhline(0, color='gray',linewidth=0.25)\n",
    "    plt.axvline(0, color='gray',linewidth=0.25)\n",
    "    plt.gca().set_aspect('equal', adjustable='box')\n",
    "    plt.show()\n",
    "\n",
    "# Create interactive sliders for K11, K12, and K22\n",
    "interact(plot_potential_and_eigenvectors, \n",
    "         K11=FloatSlider(min=0.1, max=3, step=0.1, value=1.0, description=\"K11\"), \n",
    "         K12=FloatSlider(min=-1, max=1, step=0.1, value=0.5, description=\"K12\"),\n",
    "         K22=FloatSlider(min=0.1, max=3, step=0.1, value=2.0, description=\"K22\"));\n"
   ]
  },
  {
   "cell_type": "markdown",
   "id": "57265684-4a3b-4dfd-ad09-733fc91407b1",
   "metadata": {},
   "source": [
    "### 2. Root Finding and Finding Local Minima of Functions\n",
    "\n",
    "Numerical methods are often used to find the roots (where the function equals zero) or local minima of functions.\n",
    "\n",
    "#### Root Finding\n",
    "- A **root** of a function $f(x)$ is a point where $f(x) = 0$.\n",
    "- There are several numerical methods for finding roots:\n",
    "  - **Newton's method**: Uses the derivative of the function to iteratively approach the root.\n",
    "  - **Bisection method**: Repeatedly halves the interval in which the root lies.\n",
    "  \n",
    "  The `scipy.optimize` package has root-finding methods, including Newton’s method (`newton`), bisection (`bisect`), and more.\n",
    "\n",
    "#### Finding Local Minima\n",
    "- A **local minimum** of a function is a point where the function value is lower than the surrounding points.\n",
    "- The `scipy.optimize.minimize` function can be used to find the minimum of a function, using various methods (e.g., Nelder-Mead, BFGS).\n",
    "\n",
    "We'll use the potential energy function:\n",
    "$$\n",
    "U(Q) = \\frac{1}{2}K Q^2 + \\frac{1}{4}D Q^4 + \\frac{1}{6}F Q^6\n",
    "$$\n",
    "where $D$ is negative. This gives a potential with multiple minima.\n"
   ]
  },
  {
   "cell_type": "code",
   "execution_count": 48,
   "id": "1a0c2916-d0c3-4646-859a-74f95e43b942",
   "metadata": {},
   "outputs": [
    {
     "data": {
      "image/png": "[encoded data removed]",
      "text/plain": [
       "<Figure size 600x400 with 1 Axes>"
      ]
     },
     "metadata": {},
     "output_type": "display_data"
    },
    {
     "name": "stdout",
     "output_type": "stream",
     "text": [
      "Minimum found near x0: [1.61614213]\n"
     ]
    },
    {
     "ename": "TypeError",
     "evalue": "'int' object is not callable",
     "output_type": "error",
     "traceback": [
      "\u001b[0;31m---------------------------------------------------------------------------\u001b[0m",
      "\u001b[0;31mTypeError\u001b[0m                                 Traceback (most recent call last)",
      "Cell \u001b[0;32mIn[48], line 30\u001b[0m\n\u001b[1;32m     27\u001b[0m \u001b[38;5;28mprint\u001b[39m(\u001b[38;5;124m\"\u001b[39m\u001b[38;5;124mMinimum found near x0:\u001b[39m\u001b[38;5;124m\"\u001b[39m, min_result\u001b[38;5;241m.\u001b[39mx)\n\u001b[1;32m     29\u001b[0m \u001b[38;5;66;03m# finding three minima using bisection\u001b[39;00m\n\u001b[0;32m---> 30\u001b[0m minima \u001b[38;5;241m=\u001b[39m \u001b[43mminimize\u001b[49m\u001b[43m(\u001b[49m\u001b[38;5;241;43m-\u001b[39;49m\u001b[38;5;241;43m2\u001b[39;49m\u001b[43m,\u001b[49m\u001b[38;5;241;43m2\u001b[39;49m\u001b[43m)\u001b[49m\n",
      "File \u001b[0;32m~/miniforge-pypy3/envs/phys3510/lib/python3.9/site-packages/scipy/optimize/_minimize.py:708\u001b[0m, in \u001b[0;36mminimize\u001b[0;34m(fun, x0, args, method, jac, hess, hessp, bounds, constraints, tol, callback, options)\u001b[0m\n\u001b[1;32m    706\u001b[0m     res \u001b[38;5;241m=\u001b[39m _minimize_cg(fun, x0, args, jac, callback, \u001b[38;5;241m*\u001b[39m\u001b[38;5;241m*\u001b[39moptions)\n\u001b[1;32m    707\u001b[0m \u001b[38;5;28;01melif\u001b[39;00m meth \u001b[38;5;241m==\u001b[39m \u001b[38;5;124m'\u001b[39m\u001b[38;5;124mbfgs\u001b[39m\u001b[38;5;124m'\u001b[39m:\n\u001b[0;32m--> 708\u001b[0m     res \u001b[38;5;241m=\u001b[39m \u001b[43m_minimize_bfgs\u001b[49m\u001b[43m(\u001b[49m\u001b[43mfun\u001b[49m\u001b[43m,\u001b[49m\u001b[43m \u001b[49m\u001b[43mx0\u001b[49m\u001b[43m,\u001b[49m\u001b[43m \u001b[49m\u001b[43margs\u001b[49m\u001b[43m,\u001b[49m\u001b[43m \u001b[49m\u001b[43mjac\u001b[49m\u001b[43m,\u001b[49m\u001b[43m \u001b[49m\u001b[43mcallback\u001b[49m\u001b[43m,\u001b[49m\u001b[43m \u001b[49m\u001b[38;5;241;43m*\u001b[39;49m\u001b[38;5;241;43m*\u001b[39;49m\u001b[43moptions\u001b[49m\u001b[43m)\u001b[49m\n\u001b[1;32m    709\u001b[0m \u001b[38;5;28;01melif\u001b[39;00m meth \u001b[38;5;241m==\u001b[39m \u001b[38;5;124m'\u001b[39m\u001b[38;5;124mnewton-cg\u001b[39m\u001b[38;5;124m'\u001b[39m:\n\u001b[1;32m    710\u001b[0m     res \u001b[38;5;241m=\u001b[39m _minimize_newtoncg(fun, x0, args, jac, hess, hessp, callback,\n\u001b[1;32m    711\u001b[0m                              \u001b[38;5;241m*\u001b[39m\u001b[38;5;241m*\u001b[39moptions)\n",
      "File \u001b[0;32m~/miniforge-pypy3/envs/phys3510/lib/python3.9/site-packages/scipy/optimize/_optimize.py:1372\u001b[0m, in \u001b[0;36m_minimize_bfgs\u001b[0;34m(fun, x0, args, jac, callback, gtol, norm, eps, maxiter, disp, return_all, finite_diff_rel_step, xrtol, c1, c2, hess_inv0, **unknown_options)\u001b[0m\n\u001b[1;32m   1369\u001b[0m \u001b[38;5;28;01mif\u001b[39;00m maxiter \u001b[38;5;129;01mis\u001b[39;00m \u001b[38;5;28;01mNone\u001b[39;00m:\n\u001b[1;32m   1370\u001b[0m     maxiter \u001b[38;5;241m=\u001b[39m \u001b[38;5;28mlen\u001b[39m(x0) \u001b[38;5;241m*\u001b[39m \u001b[38;5;241m200\u001b[39m\n\u001b[0;32m-> 1372\u001b[0m sf \u001b[38;5;241m=\u001b[39m \u001b[43m_prepare_scalar_function\u001b[49m\u001b[43m(\u001b[49m\u001b[43mfun\u001b[49m\u001b[43m,\u001b[49m\u001b[43m \u001b[49m\u001b[43mx0\u001b[49m\u001b[43m,\u001b[49m\u001b[43m \u001b[49m\u001b[43mjac\u001b[49m\u001b[43m,\u001b[49m\u001b[43m \u001b[49m\u001b[43margs\u001b[49m\u001b[38;5;241;43m=\u001b[39;49m\u001b[43margs\u001b[49m\u001b[43m,\u001b[49m\u001b[43m \u001b[49m\u001b[43mepsilon\u001b[49m\u001b[38;5;241;43m=\u001b[39;49m\u001b[43meps\u001b[49m\u001b[43m,\u001b[49m\n\u001b[1;32m   1373\u001b[0m \u001b[43m                              \u001b[49m\u001b[43mfinite_diff_rel_step\u001b[49m\u001b[38;5;241;43m=\u001b[39;49m\u001b[43mfinite_diff_rel_step\u001b[49m\u001b[43m)\u001b[49m\n\u001b[1;32m   1375\u001b[0m f \u001b[38;5;241m=\u001b[39m sf\u001b[38;5;241m.\u001b[39mfun\n\u001b[1;32m   1376\u001b[0m myfprime \u001b[38;5;241m=\u001b[39m sf\u001b[38;5;241m.\u001b[39mgrad\n",
      "File \u001b[0;32m~/miniforge-pypy3/envs/phys3510/lib/python3.9/site-packages/scipy/optimize/_optimize.py:288\u001b[0m, in \u001b[0;36m_prepare_scalar_function\u001b[0;34m(fun, x0, jac, args, bounds, epsilon, finite_diff_rel_step, hess)\u001b[0m\n\u001b[1;32m    284\u001b[0m     bounds \u001b[38;5;241m=\u001b[39m (\u001b[38;5;241m-\u001b[39mnp\u001b[38;5;241m.\u001b[39minf, np\u001b[38;5;241m.\u001b[39minf)\n\u001b[1;32m    286\u001b[0m \u001b[38;5;66;03m# ScalarFunction caches. Reuse of fun(x) during grad\u001b[39;00m\n\u001b[1;32m    287\u001b[0m \u001b[38;5;66;03m# calculation reduces overall function evaluations.\u001b[39;00m\n\u001b[0;32m--> 288\u001b[0m sf \u001b[38;5;241m=\u001b[39m \u001b[43mScalarFunction\u001b[49m\u001b[43m(\u001b[49m\u001b[43mfun\u001b[49m\u001b[43m,\u001b[49m\u001b[43m \u001b[49m\u001b[43mx0\u001b[49m\u001b[43m,\u001b[49m\u001b[43m \u001b[49m\u001b[43margs\u001b[49m\u001b[43m,\u001b[49m\u001b[43m \u001b[49m\u001b[43mgrad\u001b[49m\u001b[43m,\u001b[49m\u001b[43m \u001b[49m\u001b[43mhess\u001b[49m\u001b[43m,\u001b[49m\n\u001b[1;32m    289\u001b[0m \u001b[43m                    \u001b[49m\u001b[43mfinite_diff_rel_step\u001b[49m\u001b[43m,\u001b[49m\u001b[43m \u001b[49m\u001b[43mbounds\u001b[49m\u001b[43m,\u001b[49m\u001b[43m \u001b[49m\u001b[43mepsilon\u001b[49m\u001b[38;5;241;43m=\u001b[39;49m\u001b[43mepsilon\u001b[49m\u001b[43m)\u001b[49m\n\u001b[1;32m    291\u001b[0m \u001b[38;5;28;01mreturn\u001b[39;00m sf\n",
      "File \u001b[0;32m~/miniforge-pypy3/envs/phys3510/lib/python3.9/site-packages/scipy/optimize/_differentiable_functions.py:166\u001b[0m, in \u001b[0;36mScalarFunction.__init__\u001b[0;34m(self, fun, x0, args, grad, hess, finite_diff_rel_step, finite_diff_bounds, epsilon)\u001b[0m\n\u001b[1;32m    163\u001b[0m     \u001b[38;5;28mself\u001b[39m\u001b[38;5;241m.\u001b[39mf \u001b[38;5;241m=\u001b[39m fun_wrapped(\u001b[38;5;28mself\u001b[39m\u001b[38;5;241m.\u001b[39mx)\n\u001b[1;32m    165\u001b[0m \u001b[38;5;28mself\u001b[39m\u001b[38;5;241m.\u001b[39m_update_fun_impl \u001b[38;5;241m=\u001b[39m update_fun\n\u001b[0;32m--> 166\u001b[0m \u001b[38;5;28;43mself\u001b[39;49m\u001b[38;5;241;43m.\u001b[39;49m\u001b[43m_update_fun\u001b[49m\u001b[43m(\u001b[49m\u001b[43m)\u001b[49m\n\u001b[1;32m    168\u001b[0m \u001b[38;5;66;03m# Gradient evaluation\u001b[39;00m\n\u001b[1;32m    169\u001b[0m \u001b[38;5;28;01mif\u001b[39;00m \u001b[38;5;28mcallable\u001b[39m(grad):\n",
      "File \u001b[0;32m~/miniforge-pypy3/envs/phys3510/lib/python3.9/site-packages/scipy/optimize/_differentiable_functions.py:262\u001b[0m, in \u001b[0;36mScalarFunction._update_fun\u001b[0;34m(self)\u001b[0m\n\u001b[1;32m    260\u001b[0m \u001b[38;5;28;01mdef\u001b[39;00m \u001b[38;5;21m_update_fun\u001b[39m(\u001b[38;5;28mself\u001b[39m):\n\u001b[1;32m    261\u001b[0m     \u001b[38;5;28;01mif\u001b[39;00m \u001b[38;5;129;01mnot\u001b[39;00m \u001b[38;5;28mself\u001b[39m\u001b[38;5;241m.\u001b[39mf_updated:\n\u001b[0;32m--> 262\u001b[0m         \u001b[38;5;28;43mself\u001b[39;49m\u001b[38;5;241;43m.\u001b[39;49m\u001b[43m_update_fun_impl\u001b[49m\u001b[43m(\u001b[49m\u001b[43m)\u001b[49m\n\u001b[1;32m    263\u001b[0m         \u001b[38;5;28mself\u001b[39m\u001b[38;5;241m.\u001b[39mf_updated \u001b[38;5;241m=\u001b[39m \u001b[38;5;28;01mTrue\u001b[39;00m\n",
      "File \u001b[0;32m~/miniforge-pypy3/envs/phys3510/lib/python3.9/site-packages/scipy/optimize/_differentiable_functions.py:163\u001b[0m, in \u001b[0;36mScalarFunction.__init__.<locals>.update_fun\u001b[0;34m()\u001b[0m\n\u001b[1;32m    162\u001b[0m \u001b[38;5;28;01mdef\u001b[39;00m \u001b[38;5;21mupdate_fun\u001b[39m():\n\u001b[0;32m--> 163\u001b[0m     \u001b[38;5;28mself\u001b[39m\u001b[38;5;241m.\u001b[39mf \u001b[38;5;241m=\u001b[39m \u001b[43mfun_wrapped\u001b[49m\u001b[43m(\u001b[49m\u001b[38;5;28;43mself\u001b[39;49m\u001b[38;5;241;43m.\u001b[39;49m\u001b[43mx\u001b[49m\u001b[43m)\u001b[49m\n",
      "File \u001b[0;32m~/miniforge-pypy3/envs/phys3510/lib/python3.9/site-packages/scipy/optimize/_differentiable_functions.py:145\u001b[0m, in \u001b[0;36mScalarFunction.__init__.<locals>.fun_wrapped\u001b[0;34m(x)\u001b[0m\n\u001b[1;32m    141\u001b[0m \u001b[38;5;28mself\u001b[39m\u001b[38;5;241m.\u001b[39mnfev \u001b[38;5;241m+\u001b[39m\u001b[38;5;241m=\u001b[39m \u001b[38;5;241m1\u001b[39m\n\u001b[1;32m    142\u001b[0m \u001b[38;5;66;03m# Send a copy because the user may overwrite it.\u001b[39;00m\n\u001b[1;32m    143\u001b[0m \u001b[38;5;66;03m# Overwriting results in undefined behaviour because\u001b[39;00m\n\u001b[1;32m    144\u001b[0m \u001b[38;5;66;03m# fun(self.x) will change self.x, with the two no longer linked.\u001b[39;00m\n\u001b[0;32m--> 145\u001b[0m fx \u001b[38;5;241m=\u001b[39m \u001b[43mfun\u001b[49m\u001b[43m(\u001b[49m\u001b[43mnp\u001b[49m\u001b[38;5;241;43m.\u001b[39;49m\u001b[43mcopy\u001b[49m\u001b[43m(\u001b[49m\u001b[43mx\u001b[49m\u001b[43m)\u001b[49m\u001b[43m,\u001b[49m\u001b[43m \u001b[49m\u001b[38;5;241;43m*\u001b[39;49m\u001b[43margs\u001b[49m\u001b[43m)\u001b[49m\n\u001b[1;32m    146\u001b[0m \u001b[38;5;66;03m# Make sure the function returns a true scalar\u001b[39;00m\n\u001b[1;32m    147\u001b[0m \u001b[38;5;28;01mif\u001b[39;00m \u001b[38;5;129;01mnot\u001b[39;00m np\u001b[38;5;241m.\u001b[39misscalar(fx):\n",
      "\u001b[0;31mTypeError\u001b[0m: 'int' object is not callable"
     ]
    }
   ],
   "source": [
    "import numpy as np\n",
    "from scipy.optimize import minimize\n",
    "import matplotlib.pyplot as plt\n",
    "\n",
    "# Define the potential energy function and its derivative\n",
    "def U(Q, K=1, D=-3, F=1):\n",
    "    return 0.5 * K * Q**2 + 0.25 * D * Q**4 + 0.167 * F * Q**6\n",
    "\n",
    "# def dU(Q, K=1, D=-3, F=1):\n",
    "#     return K * Q + D * Q**3 + F * Q**5\n",
    "\n",
    "# Plot the potential energy function\n",
    "Q_vals = np.linspace(-3, 3, 400)\n",
    "U_vals = U(Q_vals)\n",
    "\n",
    "plt.figure(figsize=(6, 4))\n",
    "plt.plot(Q_vals, U_vals)\n",
    "plt.xlabel('Q')\n",
    "plt.ylabel('U(Q)')\n",
    "plt.xlim(-3,3)\n",
    "plt.ylim(-1,4)\n",
    "plt.show()\n",
    "\n",
    "# Minimization (finding the local minimum)\n",
    "x0=1.8\n",
    "min_result = minimize(U, x0)\n",
    "print(\"Minimum found near x0:\", min_result.x)\n",
    "\n",
    "# finding three minima using bisection\n",
    "minima = minimize(-2,2)\n"
   ]
  },
  {
   "cell_type": "markdown",
   "id": "535c655f-e280-4c66-800d-0ff418a438be",
   "metadata": {},
   "source": [
    "#### Bisection Method\n",
    "\n",
    "Another method for root finding is **bisection**. This method is slower but more robust in cases where the function is continuous and crosses the x-axis.\n",
    "\n",
    "You can use the `scipy.optimize.bisect` function to find roots by specifying an interval $[a, b]$ in which the root lies.\n",
    "\n",
    "For more details on these methods and others, refer to the [SciPy documentation](https://docs.scipy.org/doc/scipy/reference/optimize.html).\n"
   ]
  },
  {
   "cell_type": "markdown",
   "id": "52de2324-0bc0-49d6-8be7-771c5a8c9695",
   "metadata": {},
   "source": [
    "### Assignment 2: Use either of the method above to find the three minima and the value of the potential at those minima"
   ]
  },
  {
   "cell_type": "markdown",
   "id": "8f5367c2-054a-4bd9-80b3-a3afd5bb456c",
   "metadata": {},
   "source": []
  },
  {
   "cell_type": "markdown",
   "id": "cea48d75-b257-4aeb-9000-71e2ab9d9c80",
   "metadata": {},
   "source": [
    "### 3a. Reading in Data from a File\n",
    "\n",
    "It's common to work with data stored in files outside of `Jupyter Notebook`. These files can have various formats such as text files (e.g., `.txt`, `.csv`) containing rows of numerical data.\n",
    "\n",
    "#### Loading Data with NumPy\n",
    "- `numpy.loadtxt`: A simple and efficient way to load numerical data from a text file, assuming the data is well-structured (e.g., no missing values).\n",
    "- `numpy.genfromtxt`: A more flexible function that can handle missing values or different delimiters.\n",
    "\n",
    "We will first load the `data_0.txt` file as an example, which contains two columns of data.\n",
    "\n",
    "You should start by inspecting the data by opening the data from `Jupyter Notebook` `Home` or using `vim` from the terminal.\n"
   ]
  },
  {
   "cell_type": "code",
   "execution_count": 42,
   "id": "369e37f5-9aec-4d24-8e7e-60f9e45c60c1",
   "metadata": {},
   "outputs": [
    {
     "name": "stdout",
     "output_type": "stream",
     "text": [
      "Loaded Data from 'data_0.txt':\n",
      "[[ 0.          1.        ]\n",
      " [ 1.          0.81873075]\n",
      " [ 2.          0.67032005]\n",
      " [ 3.          0.54881164]\n",
      " [ 4.          0.44932896]\n",
      " [ 5.          0.36787944]\n",
      " [ 6.          0.30119421]\n",
      " [ 7.          0.24659696]\n",
      " [ 8.          0.20189652]\n",
      " [ 9.          0.16529889]\n",
      " [10.          0.13533528]\n",
      " [11.          0.11080316]\n",
      " [12.          0.09071795]\n",
      " [13.          0.07427358]\n",
      " [14.          0.06081006]\n",
      " [15.          0.04978707]]\n"
     ]
    },
    {
     "data": {
      "image/png": "[encoded data removed]",
      "text/plain": [
       "<Figure size 600x400 with 1 Axes>"
      ]
     },
     "metadata": {},
     "output_type": "display_data"
    }
   ],
   "source": [
    "import numpy as np\n",
    "import matplotlib.pyplot as plt\n",
    "\n",
    "# Load data from 'data_0.txt' file\n",
    "# This should work if you launched Jupyter Notebook in the directory where the data is.\n",
    "# If you are getting an error, you may need to change the path to where 'data.txt' is. \n",
    "data_0 = np.loadtxt('data_0.txt') \n",
    "\n",
    "# Print the loaded data from 'data_0.txt'\n",
    "print(\"Loaded Data from 'data_0.txt':\")\n",
    "print(data_0)\n",
    "\n",
    "# Plot the loaded data\n",
    "plt.figure(figsize=(6, 4))\n",
    "plt.plot(data_0[:, 0], data_0[:, 1], 'o-', label='Data from data_0.txt')\n",
    "plt.xlabel('X values')\n",
    "plt.ylabel('Y values')\n",
    "plt.grid(True)\n",
    "plt.legend()\n",
    "plt.show()\n"
   ]
  },
  {
   "cell_type": "markdown",
   "id": "14f1ff6d-defe-4e2d-8dcd-274683116335",
   "metadata": {},
   "source": [
    "#### Loading Data from `data.txt`\n",
    "\n",
    "That was pretty straightforward, but often data is messier. In what follows, we will look at some data I put together which has many of the points randomly removed. It will still plot pretty nicely, but it has been downsampled from 2500 points to around 400 points.\n",
    "\n",
    "After loading `data.txt` we will use it for interpolation, resampling, and integration.\n",
    "\n",
    "Again, the file `data.txt` contains numerical data in two columns, similar to `data_0.txt`. Take a look with in `Home` or by using `vim`.\n",
    "\n",
    "In the plot below, if you change the plot range, you should be able to see regions where the spacing between points on the x-axis is changing, due to the downsampling procedure I used."
   ]
  },
  {
   "cell_type": "code",
   "execution_count": 43,
   "id": "d15f7257-bcc2-40ed-b9e1-ea5fea5a3247",
   "metadata": {},
   "outputs": [
    {
     "name": "stdout",
     "output_type": "stream",
     "text": [
      "First 25 lines from 'data.txt':\n",
      "[[ 0.04        1.2314063 ]\n",
      " [ 1.37        1.55608407]\n",
      " [ 3.38        0.43168869]\n",
      " [ 5.26        0.86508992]\n",
      " [ 6.18        0.86674694]\n",
      " [ 7.34        0.49539907]\n",
      " [ 8.93        0.61120967]\n",
      " [10.14        0.66421855]\n",
      " [11.85        0.3628786 ]\n",
      " [12.99        0.41254365]\n",
      " [14.11        0.45540758]\n",
      " [15.56        0.3475007 ]\n",
      " [17.32        0.30538696]\n",
      " [18.95        0.3021475 ]\n",
      " [20.41        0.24197289]\n",
      " [22.24        0.23162893]\n",
      " [23.74        0.21038008]]\n"
     ]
    },
    {
     "data": {
      "image/png": "[encoded data removed]",
      "text/plain": [
       "<Figure size 600x400 with 1 Axes>"
      ]
     },
     "metadata": {},
     "output_type": "display_data"
    }
   ],
   "source": [
    "# Load data from 'data.txt' file\n",
    "data = np.loadtxt('data.txt')\n",
    "\n",
    "# Print the loaded data from 'data.txt'\n",
    "print(\"First 25 lines from 'data.txt':\")\n",
    "print(data[0::24])\n",
    "\n",
    "# Plot the loaded data\n",
    "plt.figure(figsize=(6, 4))\n",
    "plt.plot(data[:, 0], data[:, 1], 'o-', label='Data from data.txt')\n",
    "plt.title('Loaded Data Plot from data.txt')\n",
    "plt.xlabel('X values')\n",
    "plt.ylabel('Y values')\n",
    "plt.grid(True)\n",
    "plt.legend()\n",
    "plt.show()\n"
   ]
  },
  {
   "cell_type": "markdown",
   "id": "1d1ef88b-fb58-4139-a6bb-6c03afa2c10b",
   "metadata": {},
   "source": [
    "### 3b. Interpolation of Data\n",
    "\n",
    "In many cases, we have data at specific points but need to estimate values between those points. This process is called **interpolation**.\n",
    "\n",
    "We'll use `scipy.interpolate.interp1d` to perform interpolation on the data from `data.txt`.\n",
    "\n",
    "Interpolation methods include:\n",
    "- **Linear Interpolation**: Connects the points with straight lines.\n",
    "- **Cubic Interpolation**: Connects points with a cubic function.\n",
    "\n",
    "You can also use other interpolation orders and methods (e.g. quadratic order, and/or spline interpolation). Spline interpolation of n-th order gives you an n-differentiable interpolation.\n",
    "\n",
    "Let's interpolate the data from `data.txt` and visualize the results. You'll need to zoom in to different regions to see where the interpolation and the original data set are different. Note that plotting software typically has built-in interpolation for the lines it generates. Many of them default to a linear interpolation.\n"
   ]
  },
  {
   "cell_type": "code",
   "execution_count": null,
   "id": "1f0ff40b-ab4d-463d-9143-2583d17efa78",
   "metadata": {},
   "outputs": [],
   "source": [
    "from scipy.interpolate import interp1d\n",
    "import numpy as np\n",
    "import matplotlib.pyplot as plt\n",
    "\n",
    "# Load data from 'data.txt' (if not already loaded)\n",
    "data = np.loadtxt('data.txt')\n",
    "\n",
    "# Separate the columns into X and Y\n",
    "x_data = data[:, 0]\n",
    "y_data = data[:, 1]\n",
    "\n",
    "# Create linear and cubic interpolation functions\n",
    "linear_interp = interp1d(x_data, y_data, kind='linear')\n",
    "cubic_interp = interp1d(x_data, y_data, kind='cubic')\n",
    "\n",
    "# Define a new set of x-values for interpolation\n",
    "x_new = np.linspace(np.min(x_data), np.max(x_data), 500)\n",
    "\n",
    "# Interpolate the data using both methods\n",
    "y_linear = linear_interp(x_new)\n",
    "y_cubic = cubic_interp(x_new)\n",
    "\n",
    "# Plot the original data and the interpolated results\n",
    "plt.figure(figsize=(8, 6))\n",
    "plt.plot(x_data, y_data, '-', label='Original Data', markersize=5)\n",
    "plt.plot(x_new, y_linear, '-', label='Linear Interpolation')\n",
    "plt.plot(x_new, y_cubic, '--', label='Cubic Interpolation')\n",
    "plt.title('Interpolation of Data from data.txt')\n",
    "plt.xlabel('X values')\n",
    "plt.ylabel('Y values')\n",
    "plt.grid(True)\n",
    "plt.legend()\n",
    "plt.show()\n"
   ]
  },
  {
   "cell_type": "markdown",
   "id": "877b7ad2-9edb-4e29-b794-74ee7d9a623f",
   "metadata": {},
   "source": [
    "### 3c. Resampling the Data on a Regular Grid\n",
    "\n",
    "It is normal for real data to be irregularly spaced. It is sometimes useful to resample data onto a regular grid for analysis. This is common in temporal signal analysis. We can use the interpolation schemes to help with this.\n",
    "\n",
    "Resampling involves:\n",
    "1. Defining a new, evenly spaced set of x-values (regular grid).\n",
    "2. Using interpolation to estimate the corresponding y-values on this grid.\n",
    "\n",
    "Let's resample the data from `data.txt` onto a regular grid using both linear and cubic interpolation methods. Again, you'll need to zoom in to see the differences.\n"
   ]
  },
  {
   "cell_type": "code",
   "execution_count": null,
   "id": "1ee16ce9-9707-4cac-bd90-10907b89bf8c",
   "metadata": {},
   "outputs": [],
   "source": [
    "import numpy as np\n",
    "import matplotlib.pyplot as plt\n",
    "from scipy.interpolate import interp1d\n",
    "\n",
    "# Load data from 'data.txt' (if not already loaded)\n",
    "data = np.loadtxt('data.txt')\n",
    "\n",
    "# Separate the columns into X and Y\n",
    "x_data = data[:, 0]\n",
    "y_data = data[:, 1]\n",
    "\n",
    "# Define a regular grid for x-values (e.g., 500 evenly spaced points)\n",
    "x_regular = np.linspace(np.min(x_data), np.max(x_data), 500)\n",
    "\n",
    "# Create linear and cubic interpolation functions\n",
    "linear_interp = interp1d(x_data, y_data, kind='linear')\n",
    "cubic_interp = interp1d(x_data, y_data, kind='cubic')\n",
    "\n",
    "# Use the interpolation functions to resample the data onto the regular grid\n",
    "y_linear_resampled = linear_interp(x_regular)\n",
    "y_cubic_resampled = cubic_interp(x_regular)\n",
    "\n",
    "# Plot the original data and the resampled data\n",
    "plt.figure(figsize=(8, 6))\n",
    "plt.plot(x_data, y_data, 'o', label='Original Data', markersize=5)\n",
    "plt.plot(x_regular, y_linear_resampled, '-', label='Linear Resampled Data')\n",
    "plt.plot(x_regular, y_cubic_resampled, '--', label='Cubic Resampled Data')\n",
    "plt.xlabel('X values')\n",
    "plt.ylabel('Y values')\n",
    "plt.legend()\n",
    "plt.show()\n"
   ]
  },
  {
   "cell_type": "markdown",
   "id": "160b819f-771a-4c36-9d0b-ae13ddd0a1a5",
   "metadata": {},
   "source": [
    "#### Explanation\n",
    "\n",
    "- **Regular Grid**: We created a new set of x-values evenly spaced between the minimum and maximum x-values in the original data. This is called a **regular grid**.\n",
    "- **Linear and Cubic Interpolation**: We resampled the y-values on this grid using both linear and cubic interpolation methods.\n",
    "\n",
    "This resampled data can now be used for further analysis, such as numerical integration, or simply for smoothing the original data. Resampling on a regular grid can also be helpful when using certain numerical methods that require evenly spaced data points.\n"
   ]
  },
  {
   "cell_type": "markdown",
   "id": "d89fde22-5da6-42ad-a5fe-11c8d8d5a4c1",
   "metadata": {},
   "source": [
    "### 3d. Integration of Data\n",
    "\n",
    "If we have data points, we can use numerical methods to approximate the integral of the data.\n",
    "\n",
    "#### Numerical Integration\n",
    "- **Trapezoidal Rule**: This method approximates the area under the curve by dividing it into trapezoids.\n",
    "- **Simpson’s Rule**: A more accurate method, especially for smooth curves, which fits parabolas to segments of the data.\n",
    "\n",
    "We'll use the following methods from `scipy.integrate`:\n",
    "- `trapezoid`: Implements the trapezoidal rule.\n",
    "- `simpson`: Implements Simpson’s rule.\n",
    "\n",
    "We will also compare the numerical results to an analytical integral of the function:\n",
    "$$\n",
    "f(x) = \\frac{1}{\\sqrt{1 + x^2}}\n",
    "$$\n",
    "\n",
    "Let's start by integrating the function above, then we can move onto our data."
   ]
  },
  {
   "cell_type": "code",
   "execution_count": null,
   "id": "07e0d7d7-b9c5-4203-945c-b0ff198af4b0",
   "metadata": {},
   "outputs": [],
   "source": [
    "import numpy as np\n",
    "from scipy.integrate import trapezoid, simpson\n",
    "import matplotlib.pyplot as plt\n",
    "\n",
    "# Define the function to integrate\n",
    "def f(x):\n",
    "    return 1 / np.sqrt(1 + x**2)\n",
    "\n",
    "# Define the x-values from 0 to 1\n",
    "x_values = np.linspace(0, 10, 100)\n",
    "\n",
    "# Compute the corresponding y-values using the function\n",
    "y_values = f(x_values)\n",
    "\n",
    "# Perform numerical integration using trapezoidal and Simpson's rule\n",
    "trapezoid_result = trapezoid(y_values, x=x_values)\n",
    "simpson_result = simpson(y_values, x=x_values)\n",
    "\n",
    "# Print the results\n",
    "print(f\"Numerical Integration (Trapezoidal Rule): {trapezoid_result}\")\n",
    "print(f\"Numerical Integration (Simpson's Rule): {simpson_result}\")\n",
    "\n",
    "# Plot the function for visualization\n",
    "plt.figure(figsize=(6, 4))\n",
    "plt.plot(x_values, y_values, label=r'$f(x) = \\frac{1}{\\sqrt{1 + x^2}}$')\n",
    "plt.xlabel('x')\n",
    "plt.ylabel('f(x)')\n",
    "plt.grid(True)\n",
    "plt.legend()\n",
    "plt.show()\n"
   ]
  },
  {
   "cell_type": "markdown",
   "id": "74b75840-6978-483b-a4ab-101cc61fff17",
   "metadata": {},
   "source": [
    "### Assignment: Use `SymPy.integrals.integrate` to find the analytic result of the integral above and compare your answer with the analytic value"
   ]
  },
  {
   "cell_type": "markdown",
   "id": "2cf34cd9-d712-4d60-8410-cfb996c85083",
   "metadata": {},
   "source": [
    "Now let's try to integrate the resampled `data.txt` file and see what we get."
   ]
  },
  {
   "cell_type": "code",
   "execution_count": null,
   "id": "294c71ec-9ce6-441f-ae01-f0e576a4bd51",
   "metadata": {},
   "outputs": [],
   "source": [
    "import numpy as np\n",
    "import matplotlib.pyplot as plt\n",
    "from scipy.interpolate import interp1d\n",
    "from scipy.integrate import trapezoid, simpson\n",
    "\n",
    "# Load data from 'data.txt' (if not already loaded)\n",
    "data = np.loadtxt('data.txt')\n",
    "\n",
    "# Separate the columns into X and Y\n",
    "x_data = data[:, 0]\n",
    "y_data = data[:, 1]\n",
    "\n",
    "# Resample the data on a regular grid using cubic interpolation\n",
    "x_regular = np.linspace(np.min(x_data), np.max(x_data), 400)\n",
    "cubic_interp = interp1d(x_data, y_data, kind='cubic')\n",
    "y_cubic_resampled = cubic_interp(x_regular)\n",
    "\n",
    "# Perform numerical integration on the resampled data using Trapezoidal and Simpson's rule\n",
    "trapezoid_result = trapezoid(y_cubic_resampled, x_regular)\n",
    "simpson_result = simpson(y_cubic_resampled, x=x_regular)\n",
    "\n",
    "print(f\"Numerical Integration (Trapezoidal Rule): {trapezoid_result}\")\n",
    "print(f\"Numerical Integration (Simpson's Rule): {simpson_result}\")\n"
   ]
  },
  {
   "cell_type": "markdown",
   "id": "e2331de6-fab7-4d60-baa0-04add9ad94cf",
   "metadata": {},
   "source": [
    "## Assignment: The real value of the integral before my random downsampling was about 13.0747. By changing our resampling, how close can we get? Explain."
   ]
  },
  {
   "cell_type": "code",
   "execution_count": null,
   "id": "8be2abff-92ba-41a4-b7f0-09fb8d057170",
   "metadata": {},
   "outputs": [],
   "source": []
  }
 ],
 "metadata": {
  "kernelspec": {
   "display_name": "Python 3 (ipykernel)",
   "language": "python",
   "name": "python3"
  },
  "language_info": {
   "codemirror_mode": {
    "name": "ipython",
    "version": 3
   },
   "file_extension": ".py",
   "mimetype": "text/x-python",
   "name": "python",
   "nbconvert_exporter": "python",
   "pygments_lexer": "ipython3",
   "version": "3.9.20"
  }
 },
 "nbformat": 4,
 "nbformat_minor": 5
}
